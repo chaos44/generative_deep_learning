{
  "nbformat": 4,
  "nbformat_minor": 0,
  "metadata": {
    "colab": {
      "name": "Untitled45.ipynb",
      "provenance": [],
      "toc_visible": true,
      "authorship_tag": "ABX9TyPZyiMPv4WtUbXIoZLzGepr",
      "include_colab_link": true
    },
    "kernelspec": {
      "name": "python3",
      "display_name": "Python 3"
    },
    "accelerator": "GPU"
  },
  "cells": [
    {
      "cell_type": "markdown",
      "metadata": {
        "id": "view-in-github",
        "colab_type": "text"
      },
      "source": [
        "<a href=\"https://colab.research.google.com/github/chaos44/generative_deep_learning/blob/main/chap7/7_4.ipynb\" target=\"_parent\"><img src=\"https://colab.research.google.com/assets/colab-badge.svg\" alt=\"Open In Colab\"/></a>"
      ]
    },
    {
      "cell_type": "code",
      "metadata": {
        "id": "qL0g3wK2dcAm",
        "colab": {
          "base_uri": "https://localhost:8080/"
        },
        "outputId": "5e313cae-2808-4736-ab5e-53ba4bf2b3d6"
      },
      "source": [
        "!git clone -b tensorflow_2 https://github.com/davidADSP/GDL_code.git"
      ],
      "execution_count": 1,
      "outputs": [
        {
          "output_type": "stream",
          "text": [
            "Cloning into 'GDL_code'...\n",
            "remote: Enumerating objects: 391, done.\u001b[K\n",
            "remote: Total 391 (delta 0), reused 0 (delta 0), pack-reused 391\u001b[K\n",
            "Receiving objects: 100% (391/391), 22.13 MiB | 35.19 MiB/s, done.\n",
            "Resolving deltas: 100% (237/237), done.\n"
          ],
          "name": "stdout"
        }
      ]
    },
    {
      "cell_type": "markdown",
      "metadata": {
        "id": "Akc12158d6wk"
      },
      "source": [
        ""
      ]
    },
    {
      "cell_type": "code",
      "metadata": {
        "id": "jZPvWf78dcu7",
        "colab": {
          "base_uri": "https://localhost:8080/"
        },
        "outputId": "c24be397-522b-457c-fc27-5d9e9a7e46c9"
      },
      "source": [
        "cd GDL_code/"
      ],
      "execution_count": 2,
      "outputs": [
        {
          "output_type": "stream",
          "text": [
            "/content/GDL_code\n"
          ],
          "name": "stdout"
        }
      ]
    },
    {
      "cell_type": "code",
      "metadata": {
        "colab": {
          "base_uri": "https://localhost:8080/",
          "height": 413
        },
        "id": "gADow10Hkaq3",
        "outputId": "4225536f-ec75-4a26-c826-d75316fcd798"
      },
      "source": [
        "pip install --upgrade music21"
      ],
      "execution_count": 5,
      "outputs": [
        {
          "output_type": "stream",
          "text": [
            "Collecting music21\n",
            "\u001b[?25l  Downloading https://files.pythonhosted.org/packages/f2/0e/b9bf3530203f6e6ed1f04d4352ac421aef2429ab77c416ff583dd6d58597/music21-6.3.0.tar.gz (19.2MB)\n",
            "\u001b[K     |████████████████████████████████| 19.2MB 165kB/s \n",
            "\u001b[?25hRequirement already satisfied, skipping upgrade: chardet in /usr/local/lib/python3.6/dist-packages (from music21) (3.0.4)\n",
            "Requirement already satisfied, skipping upgrade: joblib in /usr/local/lib/python3.6/dist-packages (from music21) (0.17.0)\n",
            "Requirement already satisfied, skipping upgrade: more-itertools in /usr/local/lib/python3.6/dist-packages (from music21) (8.6.0)\n",
            "Collecting webcolors\n",
            "  Downloading https://files.pythonhosted.org/packages/12/05/3350559de9714b202e443a9e6312937341bd5f79f4e4f625744295e7dd17/webcolors-1.11.1-py3-none-any.whl\n",
            "Building wheels for collected packages: music21\n",
            "  Building wheel for music21 (setup.py) ... \u001b[?25l\u001b[?25hdone\n",
            "  Created wheel for music21: filename=music21-6.3.0-cp36-none-any.whl size=21888021 sha256=f4a2ededb2290ae7a2fdcceb81529c7690f0966a80aa3dc0672f295c6a69c391\n",
            "  Stored in directory: /root/.cache/pip/wheels/02/e8/2c/eed32afec2b6c6f945a17280c4e4df1cf2e8cd15ebe1025680\n",
            "Successfully built music21\n",
            "Installing collected packages: webcolors, music21\n",
            "  Found existing installation: music21 5.5.0\n",
            "    Uninstalling music21-5.5.0:\n",
            "      Successfully uninstalled music21-5.5.0\n",
            "Successfully installed music21-6.3.0 webcolors-1.11.1\n"
          ],
          "name": "stdout"
        },
        {
          "output_type": "display_data",
          "data": {
            "application/vnd.colab-display-data+json": {
              "pip_warning": {
                "packages": [
                  "music21"
                ]
              }
            }
          },
          "metadata": {
            "tags": []
          }
        }
      ]
    },
    {
      "cell_type": "code",
      "metadata": {
        "id": "zrL_KooynXJr"
      },
      "source": [
        "from music21 import converter, chord, note"
      ],
      "execution_count": 6,
      "outputs": []
    },
    {
      "cell_type": "markdown",
      "metadata": {
        "id": "fIDcjAO8stj6"
      },
      "source": [
        "## **MuseGAN Training**\r\n",
        "### **imports**\r\n",
        "※ https://github.com/czhuang/JSB-Chorales-dataset/blob/master/Jsb16thSeparated.npz　を/GDL_code/data/chorales/に入れてから実行"
      ]
    },
    {
      "cell_type": "code",
      "metadata": {
        "id": "a1vxdKRCmd0n"
      },
      "source": [
        "import os\n",
        "import matplotlib.pyplot as plt\n",
        "import numpy as np\n",
        "import types\n",
        "\n",
        "from models.MuseGAN import MuseGAN\n",
        "from utils.loaders import load_music\n",
        "\n",
        "\n",
        "from music21 import midi\n",
        "from music21 import note, stream, duration"
      ],
      "execution_count": 38,
      "outputs": []
    },
    {
      "cell_type": "code",
      "metadata": {
        "id": "8EQpBMyjztxO"
      },
      "source": [
        "# run params\r\n",
        "SECTION = 'compose'\r\n",
        "RUN_ID = '0017'\r\n",
        "DATA_NAME = 'chorales'\r\n",
        "FILENAME = 'Jsb16thSeparated.npz'\r\n",
        "RUN_FOLDER = 'run/{}/'.format(SECTION)\r\n",
        "RUN_FOLDER += '_'.join([RUN_ID, DATA_NAME])\r\n",
        "\r\n",
        "\r\n",
        "\r\n",
        "if not os.path.exists(RUN_FOLDER):\r\n",
        "    os.mkdir(RUN_FOLDER)\r\n",
        "    os.mkdir(os.path.join(RUN_FOLDER, 'viz'))\r\n",
        "    os.mkdir(os.path.join(RUN_FOLDER, 'images'))\r\n",
        "    os.mkdir(os.path.join(RUN_FOLDER, 'weights'))\r\n",
        "    os.mkdir(os.path.join(RUN_FOLDER, 'samples'))\r\n",
        "\r\n",
        "mode =  'build' # ' 'load' #"
      ],
      "execution_count": 42,
      "outputs": []
    },
    {
      "cell_type": "markdown",
      "metadata": {
        "id": "t_5CflF-eJCx"
      },
      "source": [
        "### **data**"
      ]
    },
    {
      "cell_type": "code",
      "metadata": {
        "id": "tjKktOWhds1T"
      },
      "source": [
        "BATCH_SIZE = 64\n",
        "n_bars = 2\n",
        "n_steps_per_bar = 16\n",
        "n_pitches = 84\n",
        "n_tracks = 4\n",
        "\n",
        "data_binary, data_ints, raw_data = load_music(DATA_NAME, FILENAME, n_bars, n_steps_per_bar)\n",
        "data_binary = np.squeeze(data_binary)"
      ],
      "execution_count": 45,
      "outputs": []
    },
    {
      "cell_type": "markdown",
      "metadata": {
        "id": "WP_wxdW1tYcM"
      },
      "source": [
        "### **architecture**"
      ]
    },
    {
      "cell_type": "code",
      "metadata": {
        "id": "6bHumT1XoDZE"
      },
      "source": [
        "gan = MuseGAN(input_dim = data_binary.shape[1:]\n",
        "        , critic_learning_rate = 0.001\n",
        "        , generator_learning_rate = 0.001\n",
        "        , optimiser = 'adam'\n",
        "        , grad_weight = 10\n",
        "        , z_dim = 32\n",
        "        , batch_size = BATCH_SIZE\n",
        "        , n_tracks = n_tracks\n",
        "        , n_bars = n_bars\n",
        "        , n_steps_per_bar = n_steps_per_bar\n",
        "        , n_pitches = n_pitches\n",
        "        )\n",
        "\n",
        "if mode == 'build':\n",
        "    gan.save(RUN_FOLDER)\n",
        "else:                 \n",
        "    gan.load_weights(RUN_FOLDER)"
      ],
      "execution_count": 46,
      "outputs": []
    },
    {
      "cell_type": "code",
      "metadata": {
        "colab": {
          "base_uri": "https://localhost:8080/"
        },
        "id": "BrwlueHimTYQ",
        "outputId": "bfa26f39-d757-419e-f0cd-bcc254ef4e6b"
      },
      "source": [
        "gan.chords_tempNetwork.summary()"
      ],
      "execution_count": 47,
      "outputs": [
        {
          "output_type": "stream",
          "text": [
            "Model: \"functional_11\"\n",
            "_________________________________________________________________\n",
            "Layer (type)                 Output Shape              Param #   \n",
            "=================================================================\n",
            "temporal_input (InputLayer)  [(None, 32)]              0         \n",
            "_________________________________________________________________\n",
            "reshape_2 (Reshape)          (None, 1, 1, 32)          0         \n",
            "_________________________________________________________________\n",
            "conv2d_transpose (Conv2DTran (None, 2, 1, 1024)        66560     \n",
            "_________________________________________________________________\n",
            "batch_normalization (BatchNo (None, 2, 1, 1024)        4096      \n",
            "_________________________________________________________________\n",
            "activation_2 (Activation)    (None, 2, 1, 1024)        0         \n",
            "_________________________________________________________________\n",
            "conv2d_transpose_1 (Conv2DTr (None, 2, 1, 32)          32800     \n",
            "_________________________________________________________________\n",
            "batch_normalization_1 (Batch (None, 2, 1, 32)          128       \n",
            "_________________________________________________________________\n",
            "activation_3 (Activation)    (None, 2, 1, 32)          0         \n",
            "_________________________________________________________________\n",
            "reshape_3 (Reshape)          (None, 2, 32)             0         \n",
            "=================================================================\n",
            "Total params: 103,584\n",
            "Trainable params: 101,472\n",
            "Non-trainable params: 2,112\n",
            "_________________________________________________________________\n"
          ],
          "name": "stdout"
        }
      ]
    },
    {
      "cell_type": "code",
      "metadata": {
        "id": "J9CCOasB2vwD",
        "outputId": "88286d48-f34d-4562-f309-d96056b0b766",
        "colab": {
          "base_uri": "https://localhost:8080/"
        }
      },
      "source": [
        "gan.barGen[0].summary()"
      ],
      "execution_count": 48,
      "outputs": [
        {
          "output_type": "stream",
          "text": [
            "Model: \"functional_21\"\n",
            "_________________________________________________________________\n",
            "Layer (type)                 Output Shape              Param #   \n",
            "=================================================================\n",
            "bar_generator_input (InputLa [(None, 128)]             0         \n",
            "_________________________________________________________________\n",
            "dense_4 (Dense)              (None, 1024)              132096    \n",
            "_________________________________________________________________\n",
            "batch_normalization_10 (Batc (None, 1024)              4096      \n",
            "_________________________________________________________________\n",
            "activation_12 (Activation)   (None, 1024)              0         \n",
            "_________________________________________________________________\n",
            "reshape_12 (Reshape)         (None, 2, 1, 512)         0         \n",
            "_________________________________________________________________\n",
            "conv2d_transpose_10 (Conv2DT (None, 4, 1, 512)         524800    \n",
            "_________________________________________________________________\n",
            "batch_normalization_11 (Batc (None, 4, 1, 512)         2048      \n",
            "_________________________________________________________________\n",
            "activation_13 (Activation)   (None, 4, 1, 512)         0         \n",
            "_________________________________________________________________\n",
            "conv2d_transpose_11 (Conv2DT (None, 8, 1, 256)         262400    \n",
            "_________________________________________________________________\n",
            "batch_normalization_12 (Batc (None, 8, 1, 256)         1024      \n",
            "_________________________________________________________________\n",
            "activation_14 (Activation)   (None, 8, 1, 256)         0         \n",
            "_________________________________________________________________\n",
            "conv2d_transpose_12 (Conv2DT (None, 16, 1, 256)        131328    \n",
            "_________________________________________________________________\n",
            "batch_normalization_13 (Batc (None, 16, 1, 256)        1024      \n",
            "_________________________________________________________________\n",
            "activation_15 (Activation)   (None, 16, 1, 256)        0         \n",
            "_________________________________________________________________\n",
            "conv2d_transpose_13 (Conv2DT (None, 16, 7, 256)        459008    \n",
            "_________________________________________________________________\n",
            "batch_normalization_14 (Batc (None, 16, 7, 256)        1024      \n",
            "_________________________________________________________________\n",
            "activation_16 (Activation)   (None, 16, 7, 256)        0         \n",
            "_________________________________________________________________\n",
            "conv2d_transpose_14 (Conv2DT (None, 16, 84, 1)         3073      \n",
            "_________________________________________________________________\n",
            "reshape_13 (Reshape)         (None, 1, 16, 84, 1)      0         \n",
            "=================================================================\n",
            "Total params: 1,521,921\n",
            "Trainable params: 1,517,313\n",
            "Non-trainable params: 4,608\n",
            "_________________________________________________________________\n"
          ],
          "name": "stdout"
        }
      ]
    },
    {
      "cell_type": "code",
      "metadata": {
        "id": "P9NIF_mk21aM",
        "outputId": "dfabf3a7-9d3e-4cbd-9b69-4d27c701c3da",
        "colab": {
          "base_uri": "https://localhost:8080/"
        }
      },
      "source": [
        "gan.generator.summary()"
      ],
      "execution_count": 49,
      "outputs": [
        {
          "output_type": "stream",
          "text": [
            "Model: \"functional_29\"\n",
            "__________________________________________________________________________________________________\n",
            "Layer (type)                    Output Shape         Param #     Connected to                     \n",
            "==================================================================================================\n",
            "melody_input (InputLayer)       [(None, 4, 32)]      0                                            \n",
            "__________________________________________________________________________________________________\n",
            "chords_input (InputLayer)       [(None, 32)]         0                                            \n",
            "__________________________________________________________________________________________________\n",
            "lambda_2 (Lambda)               (None, 32)           0           melody_input[0][0]               \n",
            "__________________________________________________________________________________________________\n",
            "lambda_3 (Lambda)               (None, 32)           0           melody_input[0][0]               \n",
            "__________________________________________________________________________________________________\n",
            "lambda_4 (Lambda)               (None, 32)           0           melody_input[0][0]               \n",
            "__________________________________________________________________________________________________\n",
            "lambda_5 (Lambda)               (None, 32)           0           melody_input[0][0]               \n",
            "__________________________________________________________________________________________________\n",
            "functional_11 (Functional)      (None, 2, 32)        103584      chords_input[0][0]               \n",
            "__________________________________________________________________________________________________\n",
            "functional_13 (Functional)      (None, 2, 32)        103584      lambda_2[0][0]                   \n",
            "__________________________________________________________________________________________________\n",
            "groove_input (InputLayer)       [(None, 4, 32)]      0                                            \n",
            "__________________________________________________________________________________________________\n",
            "functional_15 (Functional)      (None, 2, 32)        103584      lambda_3[0][0]                   \n",
            "__________________________________________________________________________________________________\n",
            "functional_17 (Functional)      (None, 2, 32)        103584      lambda_4[0][0]                   \n",
            "__________________________________________________________________________________________________\n",
            "functional_19 (Functional)      (None, 2, 32)        103584      lambda_5[0][0]                   \n",
            "__________________________________________________________________________________________________\n",
            "chords_input_bar_0 (Lambda)     (None, 32)           0           functional_11[0][0]              \n",
            "__________________________________________________________________________________________________\n",
            "style_input (InputLayer)        [(None, 32)]         0                                            \n",
            "__________________________________________________________________________________________________\n",
            "lambda_6 (Lambda)               (None, 32)           0           functional_13[0][0]              \n",
            "__________________________________________________________________________________________________\n",
            "lambda_7 (Lambda)               (None, 32)           0           groove_input[0][0]               \n",
            "__________________________________________________________________________________________________\n",
            "lambda_8 (Lambda)               (None, 32)           0           functional_15[0][0]              \n",
            "__________________________________________________________________________________________________\n",
            "lambda_9 (Lambda)               (None, 32)           0           groove_input[0][0]               \n",
            "__________________________________________________________________________________________________\n",
            "lambda_10 (Lambda)              (None, 32)           0           functional_17[0][0]              \n",
            "__________________________________________________________________________________________________\n",
            "lambda_11 (Lambda)              (None, 32)           0           groove_input[0][0]               \n",
            "__________________________________________________________________________________________________\n",
            "lambda_12 (Lambda)              (None, 32)           0           functional_19[0][0]              \n",
            "__________________________________________________________________________________________________\n",
            "lambda_13 (Lambda)              (None, 32)           0           groove_input[0][0]               \n",
            "__________________________________________________________________________________________________\n",
            "chords_input_bar_1 (Lambda)     (None, 32)           0           functional_11[0][0]              \n",
            "__________________________________________________________________________________________________\n",
            "lambda_14 (Lambda)              (None, 32)           0           functional_13[0][0]              \n",
            "__________________________________________________________________________________________________\n",
            "lambda_15 (Lambda)              (None, 32)           0           groove_input[0][0]               \n",
            "__________________________________________________________________________________________________\n",
            "lambda_16 (Lambda)              (None, 32)           0           functional_15[0][0]              \n",
            "__________________________________________________________________________________________________\n",
            "lambda_17 (Lambda)              (None, 32)           0           groove_input[0][0]               \n",
            "__________________________________________________________________________________________________\n",
            "lambda_18 (Lambda)              (None, 32)           0           functional_17[0][0]              \n",
            "__________________________________________________________________________________________________\n",
            "lambda_19 (Lambda)              (None, 32)           0           groove_input[0][0]               \n",
            "__________________________________________________________________________________________________\n",
            "lambda_20 (Lambda)              (None, 32)           0           functional_19[0][0]              \n",
            "__________________________________________________________________________________________________\n",
            "lambda_21 (Lambda)              (None, 32)           0           groove_input[0][0]               \n",
            "__________________________________________________________________________________________________\n",
            "total_input_bar_0_track_0 (Conc (None, 128)          0           chords_input_bar_0[0][0]         \n",
            "                                                                 style_input[0][0]                \n",
            "                                                                 lambda_6[0][0]                   \n",
            "                                                                 lambda_7[0][0]                   \n",
            "__________________________________________________________________________________________________\n",
            "total_input_bar_0_track_1 (Conc (None, 128)          0           chords_input_bar_0[0][0]         \n",
            "                                                                 style_input[0][0]                \n",
            "                                                                 lambda_8[0][0]                   \n",
            "                                                                 lambda_9[0][0]                   \n",
            "__________________________________________________________________________________________________\n",
            "total_input_bar_0_track_2 (Conc (None, 128)          0           chords_input_bar_0[0][0]         \n",
            "                                                                 style_input[0][0]                \n",
            "                                                                 lambda_10[0][0]                  \n",
            "                                                                 lambda_11[0][0]                  \n",
            "__________________________________________________________________________________________________\n",
            "total_input_bar_0_track_3 (Conc (None, 128)          0           chords_input_bar_0[0][0]         \n",
            "                                                                 style_input[0][0]                \n",
            "                                                                 lambda_12[0][0]                  \n",
            "                                                                 lambda_13[0][0]                  \n",
            "__________________________________________________________________________________________________\n",
            "total_input_bar_1_track_0 (Conc (None, 128)          0           chords_input_bar_1[0][0]         \n",
            "                                                                 style_input[0][0]                \n",
            "                                                                 lambda_14[0][0]                  \n",
            "                                                                 lambda_15[0][0]                  \n",
            "__________________________________________________________________________________________________\n",
            "total_input_bar_1_track_1 (Conc (None, 128)          0           chords_input_bar_1[0][0]         \n",
            "                                                                 style_input[0][0]                \n",
            "                                                                 lambda_16[0][0]                  \n",
            "                                                                 lambda_17[0][0]                  \n",
            "__________________________________________________________________________________________________\n",
            "total_input_bar_1_track_2 (Conc (None, 128)          0           chords_input_bar_1[0][0]         \n",
            "                                                                 style_input[0][0]                \n",
            "                                                                 lambda_18[0][0]                  \n",
            "                                                                 lambda_19[0][0]                  \n",
            "__________________________________________________________________________________________________\n",
            "total_input_bar_1_track_3 (Conc (None, 128)          0           chords_input_bar_1[0][0]         \n",
            "                                                                 style_input[0][0]                \n",
            "                                                                 lambda_20[0][0]                  \n",
            "                                                                 lambda_21[0][0]                  \n",
            "__________________________________________________________________________________________________\n",
            "functional_21 (Functional)      (None, 1, 16, 84, 1) 1521921     total_input_bar_0_track_0[0][0]  \n",
            "                                                                 total_input_bar_1_track_0[0][0]  \n",
            "__________________________________________________________________________________________________\n",
            "functional_23 (Functional)      (None, 1, 16, 84, 1) 1521921     total_input_bar_0_track_1[0][0]  \n",
            "                                                                 total_input_bar_1_track_1[0][0]  \n",
            "__________________________________________________________________________________________________\n",
            "functional_25 (Functional)      (None, 1, 16, 84, 1) 1521921     total_input_bar_0_track_2[0][0]  \n",
            "                                                                 total_input_bar_1_track_2[0][0]  \n",
            "__________________________________________________________________________________________________\n",
            "functional_27 (Functional)      (None, 1, 16, 84, 1) 1521921     total_input_bar_0_track_3[0][0]  \n",
            "                                                                 total_input_bar_1_track_3[0][0]  \n",
            "__________________________________________________________________________________________________\n",
            "concatenate_2 (Concatenate)     (None, 1, 16, 84, 4) 0           functional_21[0][0]              \n",
            "                                                                 functional_23[0][0]              \n",
            "                                                                 functional_25[0][0]              \n",
            "                                                                 functional_27[0][0]              \n",
            "__________________________________________________________________________________________________\n",
            "concatenate_3 (Concatenate)     (None, 1, 16, 84, 4) 0           functional_21[1][0]              \n",
            "                                                                 functional_23[1][0]              \n",
            "                                                                 functional_25[1][0]              \n",
            "                                                                 functional_27[1][0]              \n",
            "__________________________________________________________________________________________________\n",
            "concat_bars (Concatenate)       (None, 2, 16, 84, 4) 0           concatenate_2[0][0]              \n",
            "                                                                 concatenate_3[0][0]              \n",
            "==================================================================================================\n",
            "Total params: 6,605,604\n",
            "Trainable params: 6,576,612\n",
            "Non-trainable params: 28,992\n",
            "__________________________________________________________________________________________________\n"
          ],
          "name": "stdout"
        }
      ]
    },
    {
      "cell_type": "code",
      "metadata": {
        "id": "XctgQugX223L",
        "outputId": "750942fc-3720-4c8e-ec85-752946789b05",
        "colab": {
          "base_uri": "https://localhost:8080/"
        }
      },
      "source": [
        "gan.critic.summary()"
      ],
      "execution_count": 50,
      "outputs": [
        {
          "output_type": "stream",
          "text": [
            "Model: \"functional_9\"\n",
            "_________________________________________________________________\n",
            "Layer (type)                 Output Shape              Param #   \n",
            "=================================================================\n",
            "critic_input (InputLayer)    [(None, 2, 16, 84, 4)]    0         \n",
            "_________________________________________________________________\n",
            "conv3d (Conv3D)              multiple                  1152      \n",
            "_________________________________________________________________\n",
            "leaky_re_lu (LeakyReLU)      multiple                  0         \n",
            "_________________________________________________________________\n",
            "conv3d_1 (Conv3D)            multiple                  16512     \n",
            "_________________________________________________________________\n",
            "leaky_re_lu_1 (LeakyReLU)    multiple                  0         \n",
            "_________________________________________________________________\n",
            "conv3d_2 (Conv3D)            multiple                  196736    \n",
            "_________________________________________________________________\n",
            "leaky_re_lu_2 (LeakyReLU)    multiple                  0         \n",
            "_________________________________________________________________\n",
            "conv3d_3 (Conv3D)            multiple                  114816    \n",
            "_________________________________________________________________\n",
            "leaky_re_lu_3 (LeakyReLU)    multiple                  0         \n",
            "_________________________________________________________________\n",
            "conv3d_4 (Conv3D)            multiple                  32896     \n",
            "_________________________________________________________________\n",
            "leaky_re_lu_4 (LeakyReLU)    multiple                  0         \n",
            "_________________________________________________________________\n",
            "conv3d_5 (Conv3D)            multiple                  32896     \n",
            "_________________________________________________________________\n",
            "leaky_re_lu_5 (LeakyReLU)    multiple                  0         \n",
            "_________________________________________________________________\n",
            "conv3d_6 (Conv3D)            multiple                  131328    \n",
            "_________________________________________________________________\n",
            "leaky_re_lu_6 (LeakyReLU)    multiple                  0         \n",
            "_________________________________________________________________\n",
            "conv3d_7 (Conv3D)            multiple                  393728    \n",
            "_________________________________________________________________\n",
            "leaky_re_lu_7 (LeakyReLU)    multiple                  0         \n",
            "_________________________________________________________________\n",
            "flatten (Flatten)            multiple                  0         \n",
            "_________________________________________________________________\n",
            "dense_2 (Dense)              multiple                  525312    \n",
            "_________________________________________________________________\n",
            "leaky_re_lu_8 (LeakyReLU)    multiple                  0         \n",
            "_________________________________________________________________\n",
            "dense_3 (Dense)              multiple                  1025      \n",
            "=================================================================\n",
            "Total params: 1,446,401\n",
            "Trainable params: 1,446,401\n",
            "Non-trainable params: 0\n",
            "_________________________________________________________________\n"
          ],
          "name": "stdout"
        }
      ]
    },
    {
      "cell_type": "markdown",
      "metadata": {
        "id": "IFeqtxZitu8M"
      },
      "source": [
        "### **training**"
      ]
    },
    {
      "cell_type": "code",
      "metadata": {
        "id": "mBidwt-JtlzE"
      },
      "source": [
        "EPOCHS = 60\r\n",
        "PRINT_EVERY_N_BATCHES = 10\r\n",
        "\r\n",
        "gan.epoch = 0"
      ],
      "execution_count": 51,
      "outputs": []
    },
    {
      "cell_type": "code",
      "metadata": {
        "id": "T8OIZe6N3J8C",
        "outputId": "0a547bad-815d-451f-a065-71cf2045e7e9",
        "colab": {
          "base_uri": "https://localhost:8080/"
        }
      },
      "source": [
        "gan.train(     \r\n",
        "    data_binary\r\n",
        "    , batch_size = BATCH_SIZE\r\n",
        "    , epochs = EPOCHS\r\n",
        "    , run_folder = RUN_FOLDER\r\n",
        "    , print_every_n_batches = PRINT_EVERY_N_BATCHES\r\n",
        ")"
      ],
      "execution_count": 52,
      "outputs": [
        {
          "output_type": "stream",
          "text": [
            "WARNING:tensorflow:Discrepancy between trainable weights and collected trainable weights, did you set `model.trainable` without calling `model.compile` after ?\n",
            "WARNING:tensorflow:Discrepancy between trainable weights and collected trainable weights, did you set `model.trainable` without calling `model.compile` after ?\n",
            "0 (5, 1) [D loss: (9.5)(R -0.4, F -0.0, G 1.0)] [G loss: -0.0]\n",
            "WARNING:tensorflow:From /usr/local/lib/python3.6/dist-packages/tensorflow/python/keras/engine/training_v1.py:2070: Model.state_updates (from tensorflow.python.keras.engine.training) is deprecated and will be removed in a future version.\n",
            "Instructions for updating:\n",
            "This property should not be used in TensorFlow 2.0, as updates are applied automatically.\n",
            "1 (5, 1) [D loss: (-280.4)(R -366.4, F -3.2, G 8.9)] [G loss: -83.0]\n",
            "2 (5, 1) [D loss: (-190.7)(R -184.2, F -17.2, G 1.1)] [G loss: -83.2]\n",
            "3 (5, 1) [D loss: (-280.7)(R -318.8, F -14.2, G 5.2)] [G loss: -263.1]\n",
            "4 (5, 1) [D loss: (-317.5)(R -478.6, F 8.3, G 15.3)] [G loss: -188.4]\n",
            "5 (5, 1) [D loss: (291.2)(R 607.2, F -357.8, G 4.2)] [G loss: 22.7]\n",
            "6 (5, 1) [D loss: (-262.4)(R -813.1, F 403.5, G 14.7)] [G loss: -728.9]\n",
            "7 (5, 1) [D loss: (-206.9)(R -724.8, F 391.1, G 12.7)] [G loss: -621.4]\n",
            "8 (5, 1) [D loss: (-143.6)(R -614.4, F 374.8, G 9.6)] [G loss: -526.2]\n",
            "9 (5, 1) [D loss: (-94.1)(R -504.9, F 349.9, G 6.1)] [G loss: -447.8]\n",
            "10 (5, 1) [D loss: (-60.3)(R -396.7, F 301.9, G 3.4)] [G loss: -367.8]\n",
            "11 (5, 1) [D loss: (-46.2)(R -268.2, F 205.6, G 1.6)] [G loss: -245.2]\n",
            "12 (5, 1) [D loss: (-49.7)(R -176.1, F 103.9, G 2.3)] [G loss: -76.9]\n",
            "13 (5, 1) [D loss: (-64.2)(R -181.9, F 82.0, G 3.6)] [G loss: -85.1]\n",
            "14 (5, 1) [D loss: (-66.7)(R -511.3, F 385.6, G 5.9)] [G loss: -379.4]\n",
            "15 (5, 1) [D loss: (-67.1)(R -379.2, F 285.7, G 2.6)] [G loss: -281.7]\n",
            "16 (5, 1) [D loss: (-70.1)(R -430.1, F 342.7, G 1.7)] [G loss: -455.5]\n",
            "17 (5, 1) [D loss: (-109.0)(R -600.0, F 437.6, G 5.3)] [G loss: -488.3]\n",
            "18 (5, 1) [D loss: (0.8)(R 161.4, F -162.8, G 0.2)] [G loss: 279.7]\n",
            "19 (5, 1) [D loss: (-32.7)(R 220.6, F -264.0, G 1.1)] [G loss: -64.9]\n",
            "20 (5, 1) [D loss: (-35.6)(R -235.3, F 197.8, G 0.2)] [G loss: -284.9]\n",
            "21 (5, 1) [D loss: (-47.9)(R -308.1, F 238.5, G 2.2)] [G loss: -266.4]\n",
            "22 (5, 1) [D loss: (-49.2)(R -282.3, F 212.7, G 2.0)] [G loss: -222.1]\n",
            "23 (5, 1) [D loss: (-13.1)(R 103.8, F -194.3, G 7.7)] [G loss: -427.4]\n",
            "24 (5, 1) [D loss: (-30.7)(R -648.5, F 604.6, G 1.3)] [G loss: -599.7]\n",
            "25 (5, 1) [D loss: (-23.7)(R -574.7, F 544.9, G 0.6)] [G loss: -564.3]\n",
            "26 (5, 1) [D loss: (-13.9)(R -549.8, F 534.5, G 0.2)] [G loss: -582.2]\n",
            "27 (5, 1) [D loss: (-10.1)(R -466.9, F 454.7, G 0.2)] [G loss: -503.2]\n",
            "28 (5, 1) [D loss: (-14.5)(R -591.6, F 575.3, G 0.2)] [G loss: -641.1]\n",
            "29 (5, 1) [D loss: (-11.8)(R -733.0, F 713.7, G 0.7)] [G loss: -398.6]\n",
            "30 (5, 1) [D loss: (-21.6)(R -907.1, F 874.4, G 1.1)] [G loss: -757.2]\n",
            "31 (5, 1) [D loss: (-14.6)(R -294.4, F 278.8, G 0.1)] [G loss: -344.2]\n",
            "32 (5, 1) [D loss: (-20.0)(R -732.6, F 703.5, G 0.9)] [G loss: -526.0]\n",
            "33 (5, 1) [D loss: (-18.0)(R -458.7, F 436.3, G 0.4)] [G loss: -566.6]\n",
            "34 (5, 1) [D loss: (-23.4)(R -665.2, F 632.8, G 0.9)] [G loss: -549.4]\n",
            "35 (5, 1) [D loss: (-21.0)(R -412.6, F 390.6, G 0.1)] [G loss: -553.7]\n",
            "36 (5, 1) [D loss: (-22.0)(R -287.7, F 260.6, G 0.5)] [G loss: -308.8]\n",
            "37 (5, 1) [D loss: (-23.0)(R -393.3, F 364.6, G 0.6)] [G loss: -391.2]\n",
            "38 (5, 1) [D loss: (-21.9)(R -369.2, F 341.6, G 0.6)] [G loss: -337.1]\n",
            "39 (5, 1) [D loss: (-24.2)(R -316.2, F 288.7, G 0.3)] [G loss: -350.9]\n",
            "40 (5, 1) [D loss: (-24.0)(R -310.0, F 279.7, G 0.6)] [G loss: -347.2]\n",
            "41 (5, 1) [D loss: (-22.7)(R -321.8, F 292.2, G 0.7)] [G loss: -223.7]\n",
            "42 (5, 1) [D loss: (-21.3)(R 23.3, F -45.2, G 0.1)] [G loss: -538.5]\n",
            "43 (5, 1) [D loss: (-13.0)(R -137.6, F 124.4, G 0.0)] [G loss: -143.9]\n",
            "44 (5, 1) [D loss: (-19.6)(R -216.5, F 194.4, G 0.3)] [G loss: -225.1]\n",
            "45 (5, 1) [D loss: (-31.7)(R -366.6, F 322.9, G 1.2)] [G loss: -298.7]\n",
            "46 (5, 1) [D loss: (-31.5)(R -395.3, F 353.4, G 1.0)] [G loss: -372.2]\n",
            "47 (5, 1) [D loss: (-26.3)(R -429.5, F 392.5, G 1.1)] [G loss: -348.2]\n",
            "48 (5, 1) [D loss: (-26.7)(R -470.9, F 432.2, G 1.2)] [G loss: -388.5]\n",
            "49 (5, 1) [D loss: (-27.1)(R -430.4, F 396.3, G 0.7)] [G loss: -430.4]\n",
            "50 (5, 1) [D loss: (-24.2)(R -239.0, F 211.9, G 0.3)] [G loss: -205.9]\n",
            "51 (5, 1) [D loss: (-27.9)(R -294.4, F 260.4, G 0.6)] [G loss: -323.4]\n",
            "52 (5, 1) [D loss: (-27.3)(R -329.3, F 294.3, G 0.8)] [G loss: -308.3]\n",
            "53 (5, 1) [D loss: (-23.2)(R -215.3, F 190.8, G 0.1)] [G loss: -261.7]\n",
            "54 (5, 1) [D loss: (-27.5)(R -361.3, F 321.5, G 1.2)] [G loss: -284.0]\n",
            "55 (5, 1) [D loss: (-26.9)(R -373.1, F 330.5, G 1.6)] [G loss: -194.6]\n",
            "56 (5, 1) [D loss: (-23.2)(R -191.4, F 166.7, G 0.1)] [G loss: -219.5]\n",
            "57 (5, 1) [D loss: (-15.5)(R -63.5, F 47.9, G 0.0)] [G loss: -60.1]\n",
            "58 (5, 1) [D loss: (-24.3)(R 74.6, F -105.4, G 0.7)] [G loss: -287.0]\n",
            "59 (5, 1) [D loss: (-27.7)(R -413.2, F 373.9, G 1.2)] [G loss: -356.2]\n"
          ],
          "name": "stdout"
        }
      ]
    },
    {
      "cell_type": "code",
      "metadata": {
        "id": "DMtwmoYt3OaH",
        "outputId": "d1e47da7-0879-432f-abf9-27e66748a74d",
        "colab": {
          "base_uri": "https://localhost:8080/",
          "height": 286
        }
      },
      "source": [
        "fig = plt.figure()\r\n",
        "plt.plot([x[0] for x in gan.d_losses], color='black', linewidth=0.25)\r\n",
        "\r\n",
        "plt.plot([x[1] for x in gan.d_losses], color='green', linewidth=0.25)\r\n",
        "plt.plot([x[2] for x in gan.d_losses], color='red', linewidth=0.25)\r\n",
        "plt.plot(gan.g_losses, color='orange', linewidth=0.25)\r\n",
        "\r\n",
        "plt.xlabel('batch', fontsize=18)\r\n",
        "plt.ylabel('loss', fontsize=16)\r\n",
        "\r\n",
        "plt.xlim(0, len(gan.d_losses))\r\n",
        "# plt.ylim(0, 2)\r\n",
        "\r\n",
        "plt.show()"
      ],
      "execution_count": 53,
      "outputs": [
        {
          "output_type": "display_data",
          "data": {
            "image/png": "[encoded data removed]",
            "text/plain": [
              "<Figure size 432x288 with 1 Axes>"
            ]
          },
          "metadata": {
            "tags": [],
            "image/png": {
              "width": 409,
              "height": 269
            },
            "needs_background": "light"
          }
        }
      ]
    },
    {
      "cell_type": "code",
      "metadata": {
        "id": "_EfFveHd3eNF"
      },
      "source": [
        ""
      ],
      "execution_count": null,
      "outputs": []
    }
  ]
}