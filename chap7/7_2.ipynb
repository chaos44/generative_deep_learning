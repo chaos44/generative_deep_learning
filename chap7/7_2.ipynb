{
  "nbformat": 4,
  "nbformat_minor": 0,
  "metadata": {
    "colab": {
      "name": "Untitled45.ipynb",
      "provenance": [],
      "toc_visible": true,
      "authorship_tag": "ABX9TyOmRukeLKMQav3LYeyQ/4SS",
      "include_colab_link": true
    },
    "kernelspec": {
      "name": "python3",
      "display_name": "Python 3"
    },
    "accelerator": "GPU"
  },
  "cells": [
    {
      "cell_type": "markdown",
      "metadata": {
        "id": "view-in-github",
        "colab_type": "text"
      },
      "source": [
        "<a href=\"https://colab.research.google.com/github/chaos44/generative_deep_learning/blob/main/chap7/7_2.ipynb\" target=\"_parent\"><img src=\"https://colab.research.google.com/assets/colab-badge.svg\" alt=\"Open In Colab\"/></a>"
      ]
    },
    {
      "cell_type": "code",
      "metadata": {
        "id": "qL0g3wK2dcAm",
        "colab": {
          "base_uri": "https://localhost:8080/"
        },
        "outputId": "5e313cae-2808-4736-ab5e-53ba4bf2b3d6"
      },
      "source": [
        "!git clone -b tensorflow_2 https://github.com/davidADSP/GDL_code.git"
      ],
      "execution_count": 1,
      "outputs": [
        {
          "output_type": "stream",
          "text": [
            "Cloning into 'GDL_code'...\n",
            "remote: Enumerating objects: 391, done.\u001b[K\n",
            "remote: Total 391 (delta 0), reused 0 (delta 0), pack-reused 391\u001b[K\n",
            "Receiving objects: 100% (391/391), 22.13 MiB | 35.19 MiB/s, done.\n",
            "Resolving deltas: 100% (237/237), done.\n"
          ],
          "name": "stdout"
        }
      ]
    },
    {
      "cell_type": "markdown",
      "metadata": {
        "id": "Akc12158d6wk"
      },
      "source": [
        ""
      ]
    },
    {
      "cell_type": "code",
      "metadata": {
        "id": "jZPvWf78dcu7",
        "colab": {
          "base_uri": "https://localhost:8080/"
        },
        "outputId": "c24be397-522b-457c-fc27-5d9e9a7e46c9"
      },
      "source": [
        "cd GDL_code/"
      ],
      "execution_count": 2,
      "outputs": [
        {
          "output_type": "stream",
          "text": [
            "/content/GDL_code\n"
          ],
          "name": "stdout"
        }
      ]
    },
    {
      "cell_type": "code",
      "metadata": {
        "colab": {
          "base_uri": "https://localhost:8080/",
          "height": 413
        },
        "id": "gADow10Hkaq3",
        "outputId": "4225536f-ec75-4a26-c826-d75316fcd798"
      },
      "source": [
        "pip install --upgrade music21"
      ],
      "execution_count": 5,
      "outputs": [
        {
          "output_type": "stream",
          "text": [
            "Collecting music21\n",
            "\u001b[?25l  Downloading https://files.pythonhosted.org/packages/f2/0e/b9bf3530203f6e6ed1f04d4352ac421aef2429ab77c416ff583dd6d58597/music21-6.3.0.tar.gz (19.2MB)\n",
            "\u001b[K     |████████████████████████████████| 19.2MB 165kB/s \n",
            "\u001b[?25hRequirement already satisfied, skipping upgrade: chardet in /usr/local/lib/python3.6/dist-packages (from music21) (3.0.4)\n",
            "Requirement already satisfied, skipping upgrade: joblib in /usr/local/lib/python3.6/dist-packages (from music21) (0.17.0)\n",
            "Requirement already satisfied, skipping upgrade: more-itertools in /usr/local/lib/python3.6/dist-packages (from music21) (8.6.0)\n",
            "Collecting webcolors\n",
            "  Downloading https://files.pythonhosted.org/packages/12/05/3350559de9714b202e443a9e6312937341bd5f79f4e4f625744295e7dd17/webcolors-1.11.1-py3-none-any.whl\n",
            "Building wheels for collected packages: music21\n",
            "  Building wheel for music21 (setup.py) ... \u001b[?25l\u001b[?25hdone\n",
            "  Created wheel for music21: filename=music21-6.3.0-cp36-none-any.whl size=21888021 sha256=f4a2ededb2290ae7a2fdcceb81529c7690f0966a80aa3dc0672f295c6a69c391\n",
            "  Stored in directory: /root/.cache/pip/wheels/02/e8/2c/eed32afec2b6c6f945a17280c4e4df1cf2e8cd15ebe1025680\n",
            "Successfully built music21\n",
            "Installing collected packages: webcolors, music21\n",
            "  Found existing installation: music21 5.5.0\n",
            "    Uninstalling music21-5.5.0:\n",
            "      Successfully uninstalled music21-5.5.0\n",
            "Successfully installed music21-6.3.0 webcolors-1.11.1\n"
          ],
          "name": "stdout"
        },
        {
          "output_type": "display_data",
          "data": {
            "application/vnd.colab-display-data+json": {
              "pip_warning": {
                "packages": [
                  "music21"
                ]
              }
            }
          },
          "metadata": {
            "tags": []
          }
        }
      ]
    },
    {
      "cell_type": "code",
      "metadata": {
        "id": "zrL_KooynXJr"
      },
      "source": [
        "from music21 import converter, chord, note"
      ],
      "execution_count": 6,
      "outputs": []
    },
    {
      "cell_type": "markdown",
      "metadata": {
        "id": "ZfdYwLTLeENh"
      },
      "source": [
        "## **Compose: Training a model to generate music**\n",
        "\n"
      ]
    },
    {
      "cell_type": "code",
      "metadata": {
        "id": "LGkXzqMGdekR"
      },
      "source": [
        "import os\n",
        "import pickle\n",
        "import numpy\n",
        "from music21 import note, chord\n",
        "\n",
        "from keras.callbacks import ModelCheckpoint, EarlyStopping\n",
        "from keras.utils import plot_model\n",
        "\n",
        "from models.RNNAttention import get_distinct, create_lookups, prepare_sequences, get_music_list, create_network"
      ],
      "execution_count": 15,
      "outputs": []
    },
    {
      "cell_type": "markdown",
      "metadata": {
        "id": "fIDcjAO8stj6"
      },
      "source": [
        "### **Set parameters**"
      ]
    },
    {
      "cell_type": "code",
      "metadata": {
        "id": "a1vxdKRCmd0n"
      },
      "source": [
        "# run params\n",
        "section = 'compose'\n",
        "run_id = '0006'\n",
        "music_name = 'cello'\n",
        "\n",
        "run_folder = 'run/{}/'.format(section)\n",
        "run_folder += '_'.join([run_id, music_name])\n",
        "\n",
        "\n",
        "store_folder = os.path.join(run_folder, 'store')\n",
        "data_folder = os.path.join('data', music_name)\n",
        "\n",
        "if not os.path.exists(run_folder):\n",
        "    os.mkdir(run_folder)\n",
        "    os.mkdir(os.path.join(run_folder, 'store'))\n",
        "    os.mkdir(os.path.join(run_folder, 'output'))\n",
        "    os.mkdir(os.path.join(run_folder, 'weights'))\n",
        "    os.mkdir(os.path.join(run_folder, 'viz'))\n",
        "    \n",
        "\n",
        "\n",
        "mode = 'build' # 'load' # \n",
        "\n",
        "# data params\n",
        "intervals = range(1)\n",
        "seq_len = 32\n",
        "\n",
        "# model params\n",
        "embed_size = 100\n",
        "rnn_units = 256\n",
        "use_attention = True"
      ],
      "execution_count": 16,
      "outputs": []
    },
    {
      "cell_type": "markdown",
      "metadata": {
        "id": "t_5CflF-eJCx"
      },
      "source": [
        "### **Extract the notes**"
      ]
    },
    {
      "cell_type": "code",
      "metadata": {
        "id": "tjKktOWhds1T",
        "colab": {
          "base_uri": "https://localhost:8080/"
        },
        "outputId": "cc9ab657-87c7-4bfc-d8a2-2803da4c211b"
      },
      "source": [
        "if mode == 'build':\n",
        "    \n",
        "    music_list, parser = get_music_list(data_folder)\n",
        "    print(len(music_list), 'files in total')\n",
        "\n",
        "    notes = []\n",
        "    durations = []\n",
        "\n",
        "    for i, file in enumerate(music_list):\n",
        "        print(i+1, \"Parsing %s\" % file)\n",
        "        original_score = parser.parse(file).chordify()\n",
        "        \n",
        "\n",
        "        for interval in intervals:\n",
        "\n",
        "            score = original_score.transpose(interval)\n",
        "\n",
        "            notes.extend(['START'] * seq_len)\n",
        "            durations.extend([0]* seq_len)\n",
        "\n",
        "            for element in score.flat:\n",
        "                \n",
        "                if isinstance(element, note.Note):\n",
        "                    if element.isRest:\n",
        "                        notes.append(str(element.name))\n",
        "                        durations.append(element.duration.quarterLength)\n",
        "                    else:\n",
        "                        notes.append(str(element.nameWithOctave))\n",
        "                        durations.append(element.duration.quarterLength)\n",
        "\n",
        "                if isinstance(element, chord.Chord):\n",
        "                    notes.append('.'.join(n.nameWithOctave for n in element.pitches))\n",
        "                    durations.append(element.duration.quarterLength)\n",
        "\n",
        "    with open(os.path.join(store_folder, 'notes'), 'wb') as f:\n",
        "        pickle.dump(notes, f) #['G2', 'D3', 'B3', 'A3', 'B3', 'D3', 'B3', 'D3', 'G2',...]\n",
        "    with open(os.path.join(store_folder, 'durations'), 'wb') as f:\n",
        "        pickle.dump(durations, f) \n",
        "else:\n",
        "    with open(os.path.join(store_folder, 'notes'), 'rb') as f:\n",
        "        notes = pickle.load(f) #['G2', 'D3', 'B3', 'A3', 'B3', 'D3', 'B3', 'D3', 'G2',...]\n",
        "    with open(os.path.join(store_folder, 'durations'), 'rb') as f:\n",
        "        durations = pickle.load(f)"
      ],
      "execution_count": 17,
      "outputs": [
        {
          "output_type": "stream",
          "text": [
            "1 files in total\n",
            "1 Parsing data/cello/cs1-3cou.mid\n"
          ],
          "name": "stdout"
        }
      ]
    },
    {
      "cell_type": "markdown",
      "metadata": {
        "id": "WP_wxdW1tYcM"
      },
      "source": [
        "### **Create the lookup tables**"
      ]
    },
    {
      "cell_type": "code",
      "metadata": {
        "id": "6bHumT1XoDZE"
      },
      "source": [
        "# get the distinct sets of notes and durations\n",
        "note_names, n_notes = get_distinct(notes)\n",
        "duration_names, n_durations = get_distinct(durations)\n",
        "distincts = [note_names, n_notes, duration_names, n_durations]\n",
        "\n",
        "with open(os.path.join(store_folder, 'distincts'), 'wb') as f:\n",
        "    pickle.dump(distincts, f)\n",
        "\n",
        "# make the lookup dictionaries for notes and dictionaries and save\n",
        "note_to_int, int_to_note = create_lookups(note_names)\n",
        "duration_to_int, int_to_duration = create_lookups(duration_names)\n",
        "lookups = [note_to_int, int_to_note, duration_to_int, int_to_duration]\n",
        "\n",
        "with open(os.path.join(store_folder, 'lookups'), 'wb') as f:\n",
        "    pickle.dump(lookups, f)"
      ],
      "execution_count": 18,
      "outputs": []
    },
    {
      "cell_type": "code",
      "metadata": {
        "colab": {
          "base_uri": "https://localhost:8080/"
        },
        "id": "BrwlueHimTYQ",
        "outputId": "e53638d3-0944-4aa5-89b9-76b3e8756e54"
      },
      "source": [
        "print('\\nnote_to_int')\r\n",
        "note_to_int"
      ],
      "execution_count": 19,
      "outputs": [
        {
          "output_type": "stream",
          "text": [
            "\n",
            "note_to_int\n"
          ],
          "name": "stdout"
        },
        {
          "output_type": "execute_result",
          "data": {
            "text/plain": [
              "{'A2': 0,\n",
              " 'A3': 1,\n",
              " 'B2': 2,\n",
              " 'B3': 3,\n",
              " 'C#3': 4,\n",
              " 'C#4': 5,\n",
              " 'C2': 6,\n",
              " 'C3': 7,\n",
              " 'C4': 8,\n",
              " 'D2': 9,\n",
              " 'D3': 10,\n",
              " 'D4': 11,\n",
              " 'E-3': 12,\n",
              " 'E-4': 13,\n",
              " 'E2': 14,\n",
              " 'E3': 15,\n",
              " 'E4': 16,\n",
              " 'F#3': 17,\n",
              " 'F3': 18,\n",
              " 'G2': 19,\n",
              " 'G2.G3': 20,\n",
              " 'G3': 21,\n",
              " 'START': 22}"
            ]
          },
          "metadata": {
            "tags": []
          },
          "execution_count": 19
        }
      ]
    },
    {
      "cell_type": "code",
      "metadata": {
        "colab": {
          "base_uri": "https://localhost:8080/"
        },
        "id": "YxNZn9kUthQa",
        "outputId": "4fb23d97-398f-4546-a120-375942b39614"
      },
      "source": [
        "print('\\nduration_to_int')\r\n",
        "duration_to_int"
      ],
      "execution_count": 20,
      "outputs": [
        {
          "output_type": "stream",
          "text": [
            "\n",
            "duration_to_int\n"
          ],
          "name": "stdout"
        },
        {
          "output_type": "execute_result",
          "data": {
            "text/plain": [
              "{0: 0, 0.25: 1, 0.5: 2, 0.75: 3, 1.25: 4, 1.5: 5, 2.0: 6}"
            ]
          },
          "metadata": {
            "tags": []
          },
          "execution_count": 20
        }
      ]
    },
    {
      "cell_type": "markdown",
      "metadata": {
        "id": "IFeqtxZitu8M"
      },
      "source": [
        "### **Prepare the sequences used by the Neural Network**"
      ]
    },
    {
      "cell_type": "code",
      "metadata": {
        "id": "mBidwt-JtlzE"
      },
      "source": [
        "network_input, network_output = prepare_sequences(notes, durations, lookups, distincts, seq_len)"
      ],
      "execution_count": 21,
      "outputs": []
    },
    {
      "cell_type": "code",
      "metadata": {
        "colab": {
          "base_uri": "https://localhost:8080/"
        },
        "id": "CE6urFkot0pJ",
        "outputId": "a1665f4d-a18a-4dae-ea02-c4e0040b4b4f"
      },
      "source": [
        "print('pitch input')\r\n",
        "print(network_input[0][0])\r\n",
        "print('duration input')\r\n",
        "print(network_input[1][0])\r\n",
        "print('pitch output')\r\n",
        "print(network_output[0][0])\r\n",
        "print('duration output')\r\n",
        "print(network_output[1][0])"
      ],
      "execution_count": 22,
      "outputs": [
        {
          "output_type": "stream",
          "text": [
            "pitch input\n",
            "[22 22 22 22 22 22 22 22 22 22 22 22 22 22 22 22 22 22 22 22 22 22 22 22\n",
            " 22 22 22 22 22 22 22 22]\n",
            "duration input\n",
            "[0 0 0 0 0 0 0 0 0 0 0 0 0 0 0 0 0 0 0 0 0 0 0 0 0 0 0 0 0 0 0 0]\n",
            "pitch output\n",
            "[0. 0. 0. 0. 0. 0. 0. 0. 0. 0. 0. 0. 0. 0. 0. 0. 0. 0. 0. 0. 0. 1. 0.]\n",
            "duration output\n",
            "[0. 0. 1. 0. 0. 0. 0.]\n"
          ],
          "name": "stdout"
        }
      ]
    },
    {
      "cell_type": "markdown",
      "metadata": {
        "id": "FC8EeEAyt-zc"
      },
      "source": [
        "### **Create the structure of the neural network**"
      ]
    },
    {
      "cell_type": "code",
      "metadata": {
        "colab": {
          "base_uri": "https://localhost:8080/"
        },
        "id": "fxd-qIpOt2Ge",
        "outputId": "f39e5214-ae42-4ba1-d033-b871afdcb2be"
      },
      "source": [
        "model, att_model = create_network(n_notes, n_durations, embed_size, rnn_units, use_attention)\r\n",
        "model.summary()"
      ],
      "execution_count": 24,
      "outputs": [
        {
          "output_type": "stream",
          "text": [
            "Model: \"functional_1\"\n",
            "__________________________________________________________________________________________________\n",
            "Layer (type)                    Output Shape         Param #     Connected to                     \n",
            "==================================================================================================\n",
            "input_1 (InputLayer)            [(None, None)]       0                                            \n",
            "__________________________________________________________________________________________________\n",
            "input_2 (InputLayer)            [(None, None)]       0                                            \n",
            "__________________________________________________________________________________________________\n",
            "embedding (Embedding)           (None, None, 100)    2300        input_1[0][0]                    \n",
            "__________________________________________________________________________________________________\n",
            "embedding_1 (Embedding)         (None, None, 100)    700         input_2[0][0]                    \n",
            "__________________________________________________________________________________________________\n",
            "concatenate (Concatenate)       (None, None, 200)    0           embedding[0][0]                  \n",
            "                                                                 embedding_1[0][0]                \n",
            "__________________________________________________________________________________________________\n",
            "lstm (LSTM)                     (None, None, 256)    467968      concatenate[0][0]                \n",
            "__________________________________________________________________________________________________\n",
            "lstm_1 (LSTM)                   (None, None, 256)    525312      lstm[0][0]                       \n",
            "__________________________________________________________________________________________________\n",
            "dense (Dense)                   (None, None, 1)      257         lstm_1[0][0]                     \n",
            "__________________________________________________________________________________________________\n",
            "reshape (Reshape)               (None, None)         0           dense[0][0]                      \n",
            "__________________________________________________________________________________________________\n",
            "activation (Activation)         (None, None)         0           reshape[0][0]                    \n",
            "__________________________________________________________________________________________________\n",
            "repeat_vector (RepeatVector)    (None, 256, None)    0           activation[0][0]                 \n",
            "__________________________________________________________________________________________________\n",
            "permute (Permute)               (None, None, 256)    0           repeat_vector[0][0]              \n",
            "__________________________________________________________________________________________________\n",
            "multiply (Multiply)             (None, None, 256)    0           lstm_1[0][0]                     \n",
            "                                                                 permute[0][0]                    \n",
            "__________________________________________________________________________________________________\n",
            "lambda (Lambda)                 (None, 256)          0           multiply[0][0]                   \n",
            "__________________________________________________________________________________________________\n",
            "pitch (Dense)                   (None, 23)           5911        lambda[0][0]                     \n",
            "__________________________________________________________________________________________________\n",
            "duration (Dense)                (None, 7)            1799        lambda[0][0]                     \n",
            "==================================================================================================\n",
            "Total params: 1,004,247\n",
            "Trainable params: 1,004,247\n",
            "Non-trainable params: 0\n",
            "__________________________________________________________________________________________________\n"
          ],
          "name": "stdout"
        }
      ]
    },
    {
      "cell_type": "code",
      "metadata": {
        "id": "9CSglP1et92W"
      },
      "source": [
        "plot_model(model, to_file=os.path.join(run_folder ,'viz/model.png'), show_shapes = True, show_layer_names = True)"
      ],
      "execution_count": null,
      "outputs": []
    },
    {
      "cell_type": "markdown",
      "metadata": {
        "id": "-jaqvquPuLcu"
      },
      "source": [
        "### **Train the neural network**"
      ]
    },
    {
      "cell_type": "code",
      "metadata": {
        "id": "3IRPKxJiuRvg"
      },
      "source": [
        "weights_folder = os.path.join(run_folder, 'weights')\r\n",
        "# model.load_weights(os.path.join(weights_folder, \"weights.h5\"))"
      ],
      "execution_count": 26,
      "outputs": []
    },
    {
      "cell_type": "code",
      "metadata": {
        "colab": {
          "base_uri": "https://localhost:8080/"
        },
        "id": "AyPt-1qvuTxG",
        "outputId": "4a21ed11-d0f3-4114-b0cc-16c856723c1f"
      },
      "source": [
        "weights_folder = os.path.join(run_folder, 'weights')\r\n",
        "\r\n",
        "checkpoint1 = ModelCheckpoint(\r\n",
        "    os.path.join(weights_folder, \"weights-improvement-{epoch:02d}-{loss:.4f}-bigger.h5\"),\r\n",
        "    monitor='loss',\r\n",
        "    verbose=0,\r\n",
        "    save_best_only=True,\r\n",
        "    mode='min'\r\n",
        ")\r\n",
        "\r\n",
        "checkpoint2 = ModelCheckpoint(\r\n",
        "    os.path.join(weights_folder, \"weights.h5\"),\r\n",
        "    monitor='loss',\r\n",
        "    verbose=0,\r\n",
        "    save_best_only=True,\r\n",
        "    mode='min'\r\n",
        ")\r\n",
        "\r\n",
        "early_stopping = EarlyStopping(\r\n",
        "    monitor='loss'\r\n",
        "    , restore_best_weights=True\r\n",
        "    , patience = 10\r\n",
        ")\r\n",
        "\r\n",
        "\r\n",
        "callbacks_list = [\r\n",
        "    checkpoint1\r\n",
        "    , checkpoint2\r\n",
        "    , early_stopping\r\n",
        " ]\r\n",
        "\r\n",
        "model.save_weights(os.path.join(weights_folder, \"weights.h5\"))\r\n",
        "# model.fit(network_input, network_output\r\n",
        "#           , epochs=2000000, batch_size=32\r\n",
        "#           , validation_split = 0.2\r\n",
        "#           , callbacks=callbacks_list\r\n",
        "#           , shuffle=True\r\n",
        "#          )\r\n",
        "\r\n",
        "model.fit(network_input, network_output\r\n",
        "          , epochs=20, batch_size=32\r\n",
        "          , validation_split = 0.2\r\n",
        "          , callbacks=callbacks_list\r\n",
        "          , shuffle=True\r\n",
        "         )"
      ],
      "execution_count": 27,
      "outputs": [
        {
          "output_type": "stream",
          "text": [
            "Epoch 1/20\n",
            "21/21 [==============================] - 1s 57ms/step - loss: 3.4608 - pitch_loss: 2.7453 - duration_loss: 0.7156 - val_loss: 3.5012 - val_pitch_loss: 2.7594 - val_duration_loss: 0.7418\n",
            "Epoch 2/20\n",
            "21/21 [==============================] - 0s 19ms/step - loss: 3.1938 - pitch_loss: 2.6280 - duration_loss: 0.5659 - val_loss: 3.2284 - val_pitch_loss: 2.7753 - val_duration_loss: 0.4531\n",
            "Epoch 3/20\n",
            "21/21 [==============================] - 0s 18ms/step - loss: 3.1905 - pitch_loss: 2.6207 - duration_loss: 0.5698 - val_loss: 3.2433 - val_pitch_loss: 2.7833 - val_duration_loss: 0.4600\n",
            "Epoch 4/20\n",
            "21/21 [==============================] - 0s 17ms/step - loss: 3.1526 - pitch_loss: 2.6060 - duration_loss: 0.5466 - val_loss: 3.2569 - val_pitch_loss: 2.7889 - val_duration_loss: 0.4680\n",
            "Epoch 5/20\n",
            "21/21 [==============================] - 0s 18ms/step - loss: 3.1405 - pitch_loss: 2.6011 - duration_loss: 0.5394 - val_loss: 3.2471 - val_pitch_loss: 2.8064 - val_duration_loss: 0.4406\n",
            "Epoch 6/20\n",
            "21/21 [==============================] - 0s 18ms/step - loss: 3.1170 - pitch_loss: 2.5847 - duration_loss: 0.5323 - val_loss: 3.2263 - val_pitch_loss: 2.7704 - val_duration_loss: 0.4560\n",
            "Epoch 7/20\n",
            "21/21 [==============================] - 0s 19ms/step - loss: 3.0533 - pitch_loss: 2.5466 - duration_loss: 0.5068 - val_loss: 3.1686 - val_pitch_loss: 2.7395 - val_duration_loss: 0.4291\n",
            "Epoch 8/20\n",
            "21/21 [==============================] - 0s 19ms/step - loss: 3.0103 - pitch_loss: 2.4967 - duration_loss: 0.5135 - val_loss: 3.1393 - val_pitch_loss: 2.6974 - val_duration_loss: 0.4419\n",
            "Epoch 9/20\n",
            "21/21 [==============================] - 0s 20ms/step - loss: 2.9725 - pitch_loss: 2.4785 - duration_loss: 0.4940 - val_loss: 3.1148 - val_pitch_loss: 2.6828 - val_duration_loss: 0.4320\n",
            "Epoch 10/20\n",
            "21/21 [==============================] - 0s 18ms/step - loss: 2.9292 - pitch_loss: 2.4414 - duration_loss: 0.4878 - val_loss: 3.1235 - val_pitch_loss: 2.6614 - val_duration_loss: 0.4621\n",
            "Epoch 11/20\n",
            "21/21 [==============================] - 0s 17ms/step - loss: 2.8830 - pitch_loss: 2.4135 - duration_loss: 0.4696 - val_loss: 3.0290 - val_pitch_loss: 2.6163 - val_duration_loss: 0.4126\n",
            "Epoch 12/20\n",
            "21/21 [==============================] - 0s 17ms/step - loss: 2.8492 - pitch_loss: 2.3769 - duration_loss: 0.4722 - val_loss: 3.0008 - val_pitch_loss: 2.5408 - val_duration_loss: 0.4600\n",
            "Epoch 13/20\n",
            "21/21 [==============================] - 0s 19ms/step - loss: 2.8035 - pitch_loss: 2.3496 - duration_loss: 0.4539 - val_loss: 2.9356 - val_pitch_loss: 2.5284 - val_duration_loss: 0.4072\n",
            "Epoch 14/20\n",
            "21/21 [==============================] - 0s 18ms/step - loss: 2.7166 - pitch_loss: 2.2849 - duration_loss: 0.4317 - val_loss: 3.0159 - val_pitch_loss: 2.5496 - val_duration_loss: 0.4663\n",
            "Epoch 15/20\n",
            "21/21 [==============================] - 0s 19ms/step - loss: 2.6725 - pitch_loss: 2.2465 - duration_loss: 0.4260 - val_loss: 2.8358 - val_pitch_loss: 2.4300 - val_duration_loss: 0.4058\n",
            "Epoch 16/20\n",
            "21/21 [==============================] - 0s 18ms/step - loss: 2.6436 - pitch_loss: 2.2184 - duration_loss: 0.4252 - val_loss: 2.8602 - val_pitch_loss: 2.4528 - val_duration_loss: 0.4074\n",
            "Epoch 17/20\n",
            "21/21 [==============================] - 0s 18ms/step - loss: 2.5686 - pitch_loss: 2.1655 - duration_loss: 0.4030 - val_loss: 2.9818 - val_pitch_loss: 2.5801 - val_duration_loss: 0.4017\n",
            "Epoch 18/20\n",
            "21/21 [==============================] - 0s 18ms/step - loss: 2.5294 - pitch_loss: 2.1318 - duration_loss: 0.3976 - val_loss: 2.7608 - val_pitch_loss: 2.2945 - val_duration_loss: 0.4663\n",
            "Epoch 19/20\n",
            "21/21 [==============================] - 0s 18ms/step - loss: 2.4749 - pitch_loss: 2.0938 - duration_loss: 0.3811 - val_loss: 2.6694 - val_pitch_loss: 2.3245 - val_duration_loss: 0.3450\n",
            "Epoch 20/20\n",
            "21/21 [==============================] - 0s 18ms/step - loss: 2.4398 - pitch_loss: 2.0712 - duration_loss: 0.3686 - val_loss: 2.5591 - val_pitch_loss: 2.2125 - val_duration_loss: 0.3466\n"
          ],
          "name": "stdout"
        },
        {
          "output_type": "execute_result",
          "data": {
            "text/plain": [
              "<tensorflow.python.keras.callbacks.History at 0x7f023c2eb4e0>"
            ]
          },
          "metadata": {
            "tags": []
          },
          "execution_count": 27
        }
      ]
    },
    {
      "cell_type": "markdown",
      "metadata": {
        "id": "epWwfSAlvsl1"
      },
      "source": [
        "### **/GDL_code/run/weights/weights.h5 をDLして、7_3で使う**"
      ]
    },
    {
      "cell_type": "code",
      "metadata": {
        "id": "chR5IzV5vrf2"
      },
      "source": [
        ""
      ],
      "execution_count": null,
      "outputs": []
    }
  ]
}