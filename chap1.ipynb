{
  "nbformat": 4,
  "nbformat_minor": 0,
  "metadata": {
    "colab": {
      "name": "Untitled42.ipynb",
      "provenance": [],
      "authorship_tag": "ABX9TyMt3gOQVh717jENSmVdv96m",
      "include_colab_link": true
    },
    "kernelspec": {
      "name": "python3",
      "display_name": "Python 3"
    }
  },
  "cells": [
    {
      "cell_type": "markdown",
      "metadata": {
        "id": "view-in-github",
        "colab_type": "text"
      },
      "source": [
        "<a href=\"https://colab.research.google.com/github/chaos44/generative_deep_learning/blob/main/chap1.ipynb\" target=\"_parent\"><img src=\"https://colab.research.google.com/assets/colab-badge.svg\" alt=\"Open In Colab\"/></a>"
      ]
    },
    {
      "cell_type": "markdown",
      "metadata": {
        "id": "Dk1FXMnKxDqX"
      },
      "source": [
        "Chapter 1. Generative Modeling"
      ]
    },
    {
      "cell_type": "markdown",
      "metadata": {
        "id": "ojHiZ2GtxZES"
      },
      "source": [
        "1.Naive Bayes model (単純ベイズモデル)"
      ]
    },
    {
      "cell_type": "code",
      "metadata": {
        "id": "7XBqCle3xHDF"
      },
      "source": [
        ""
      ],
      "execution_count": null,
      "outputs": []
    }
  ]
}