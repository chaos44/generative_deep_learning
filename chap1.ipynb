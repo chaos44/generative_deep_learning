{
  "nbformat": 4,
  "nbformat_minor": 0,
  "metadata": {
    "colab": {
      "name": "Untitled42.ipynb",
      "provenance": [],
      "authorship_tag": "ABX9TyNUcysr9kMb0kQ6+JElvOIO",
      "include_colab_link": true
    },
    "kernelspec": {
      "name": "python3",
      "display_name": "Python 3"
    }
  },
  "cells": [
    {
      "cell_type": "markdown",
      "metadata": {
        "id": "view-in-github",
        "colab_type": "text"
      },
      "source": [
        "<a href=\"https://colab.research.google.com/github/chaos44/generative_deep_learning/blob/main/chap1.ipynb\" target=\"_parent\"><img src=\"https://colab.research.google.com/assets/colab-badge.svg\" alt=\"Open In Colab\"/></a>"
      ]
    },
    {
      "cell_type": "markdown",
      "metadata": {
        "id": "Dk1FXMnKxDqX"
      },
      "source": [
        "Chapter 1. Generative Modeling"
      ]
    },
    {
      "cell_type": "markdown",
      "metadata": {
        "id": "ojHiZ2GtxZES"
      },
      "source": [
        "１．Naive Bayes model (単純ベイズモデル)"
      ]
    },
    {
      "cell_type": "markdown",
      "metadata": {
        "id": "5YTKS3muyXVz"
      },
      "source": [
        "２．筒の図の部分：点と線は新しく生成されたもの　✔"
      ]
    },
    {
      "cell_type": "code",
      "metadata": {
        "id": "7XBqCle3xHDF"
      },
      "source": [
        ""
      ],
      "execution_count": null,
      "outputs": []
    }
  ]
}