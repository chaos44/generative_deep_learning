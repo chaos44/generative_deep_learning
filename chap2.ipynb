{
  "nbformat": 4,
  "nbformat_minor": 0,
  "metadata": {
    "colab": {
      "name": "Untitled43.ipynb",
      "provenance": [],
      "authorship_tag": "ABX9TyMuxKyiBjO6eZVP0NxofzKZ",
      "include_colab_link": true
    },
    "kernelspec": {
      "name": "python3",
      "display_name": "Python 3"
    }
  },
  "cells": [
    {
      "cell_type": "markdown",
      "metadata": {
        "id": "view-in-github",
        "colab_type": "text"
      },
      "source": [
        "<a href=\"https://colab.research.google.com/github/chaos44/generative_deep_learning/blob/main/chap2.ipynb\" target=\"_parent\"><img src=\"https://colab.research.google.com/assets/colab-badge.svg\" alt=\"Open In Colab\"/></a>"
      ]
    },
    {
      "cell_type": "markdown",
      "metadata": {
        "id": "Sihyb6K22ZRL"
      },
      "source": [
        "Chapter 2. Deep Learning"
      ]
    },
    {
      "cell_type": "markdown",
      "metadata": {
        "id": "1rK6qOm43il3"
      },
      "source": [
        "１．訓練途中にbatchサイズを変更する方法および効果<br>\n",
        "　　It is also now recommended practice to increase the batch size as training progresses\n",
        "<br>https://stackoverflow.com/questions/50606995/how-to-change-the-batch-size-during-training"
      ]
    },
    {
      "cell_type": "markdown",
      "metadata": {
        "id": "tS1HpQNk8Eoa"
      },
      "source": [
        "２．このレイヤーがテスト時にどのように機能するのか疑問に思われるかもしれません。予測に関しては、単一の観測値のみを予測したい場合があるため、平均を取るバッチはありません。この問題を回避するために、トレーニング中に、バッチ正規化レイヤーは各チャネルの平均と標準偏差の移動平均も計算し、この値をレイヤーの一部として保存して、テスト時に使用します。\n",
        "\n",
        "どうやってバッチ正規化レイヤーには多くのパラメーターが含まれていますか？前のレイヤーのすべてのチャネルについて、スケール（ガンマ）とシフト（ベータ）の2つの重みを学習する必要があります。これらはトレーニング可能なパラメータです。移動平均と標準偏差もチャネルごとに計算する必要がありますが、これらはバックプロパゲーションによってトレーニングされるのではなく、レイヤーを通過するデータから導出されるため、トレーニング不可能なパラメーターと呼ばれます。合計で、これにより、前のレイヤーの各チャネルに4つのパラメーターが与えられます。ここで、2つはトレーニング可能で、2つはトレーニング不可能です。\n",
        "\n",
        "質問：\n",
        "１．単一の観測値のみを予測したい場合とそうじゃない場合？\n",
        "２．学習するパラメターと学習しないパラメターの区別 \n",
        "\n",
        "stackflow + author github"
      ]
    },
    {
      "cell_type": "code",
      "metadata": {
        "id": "rtb38Rdh2gVT"
      },
      "source": [
        ""
      ],
      "execution_count": 1,
      "outputs": []
    },
    {
      "cell_type": "code",
      "metadata": {
        "id": "ihdHMmTL3gGY"
      },
      "source": [
        ""
      ],
      "execution_count": null,
      "outputs": []
    }
  ]
}